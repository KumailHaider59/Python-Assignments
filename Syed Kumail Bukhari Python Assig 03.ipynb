{
 "cells": [
  {
   "cell_type": "code",
   "execution_count": 1,
   "id": "b3fb60dc",
   "metadata": {},
   "outputs": [
    {
     "name": "stdout",
     "output_type": "stream",
     "text": [
      "Twinkle, twinkle, little star,\n",
      "\t How I wonder what you are!\n",
      "\t \t Up above the world so high,\n",
      "\t \t Like a diamond in the sky.\n",
      "Twinkle, twinkle, little star,\n",
      "Twinkle, twinkle, little star,\n",
      "\t How I wonder what you are!\n"
     ]
    }
   ],
   "source": [
    "# Q1:-> Printing the string in a specific format\n",
    "\n",
    "print(\"Twinkle, twinkle, little star,\")\n",
    "print(\"\\t How I wonder what you are!\")\n",
    "print(\"\\t \\t Up above the world so high,\")\n",
    "print(\"\\t \\t Like a diamond in the sky.\")\n",
    "print(\"Twinkle, twinkle, little star,\")\n",
    "\n",
    "print(\"Twinkle, twinkle, little star,\")\n",
    "print(\"\\t How I wonder what you are!\")"
   ]
  },
  {
   "cell_type": "code",
   "execution_count": 3,
   "id": "f50442d8",
   "metadata": {},
   "outputs": [
    {
     "name": "stdout",
     "output_type": "stream",
     "text": [
      "Python version\n",
      "3.8.8 (default, Apr 13 2021, 15:08:03) [MSC v.1916 64 bit (AMD64)]\n"
     ]
    }
   ],
   "source": [
    "# Q2:-> Program to get the Python version \n",
    "\n",
    "import sys\n",
    "print(\"Python version\")\n",
    "print (sys.version)"
   ]
  },
  {
   "cell_type": "code",
   "execution_count": 4,
   "id": "9e6e5e5d",
   "metadata": {},
   "outputs": [
    {
     "name": "stdout",
     "output_type": "stream",
     "text": [
      "Current date = 22-10-2021\n",
      "Current time = 18:15:39\n"
     ]
    }
   ],
   "source": [
    "# Q3:-> Program to display the current date and time\n",
    "\n",
    "import datetime\n",
    "k = datetime.datetime.now()\n",
    "print (\"Current date = %s-%s-%s\" % (k.day, k.month, k.year))\n",
    "print (\"Current time = %s:%s:%s\" % (k.hour, k.minute, k.second))"
   ]
  },
  {
   "cell_type": "code",
   "execution_count": 5,
   "id": "58804e3b",
   "metadata": {},
   "outputs": [
    {
     "name": "stdout",
     "output_type": "stream",
     "text": [
      "Enter the radius of the circle: 2\n",
      "12.566370614359172\n"
     ]
    }
   ],
   "source": [
    "# Q4:-> Program to display the current date and time\n",
    "\n",
    "from math import pi\n",
    "radius=int(input(\"Enter the radius of the circle: \" ))\n",
    "area=pi*(radius**2)\n",
    "print(area)"
   ]
  },
  {
   "cell_type": "code",
   "execution_count": 7,
   "id": "cf6c8751",
   "metadata": {},
   "outputs": [
    {
     "name": "stdout",
     "output_type": "stream",
     "text": [
      "Enter the radius of the circle: 2\n",
      "12.5664\n"
     ]
    }
   ],
   "source": [
    "# Q4:-> Program to CALCULATE the radius of a circle\n",
    "\n",
    "from math import pi\n",
    "radius=int(input(\"Enter the radius of the circle: \" ))\n",
    "area=pi*(radius**2)\n",
    "limited_area = \"{:.4f}\".format(area)\n",
    "print(limited_area)"
   ]
  },
  {
   "cell_type": "code",
   "execution_count": 8,
   "id": "4379b355",
   "metadata": {},
   "outputs": [
    {
     "name": "stdout",
     "output_type": "stream",
     "text": [
      "Enter your first name: Syed Kumail\n",
      "Enter your last name: Bukhari\n",
      "Bukhari Syed Kumail\n"
     ]
    }
   ],
   "source": [
    "# Q5:-> Program to print user's first and last name in inreverse order with a space between them\n",
    "first_name=input(\"Enter your first name: \" )\n",
    "last_name=input(\"Enter your last name: \" )\n",
    "print(last_name+\" \"+first_name) "
   ]
  },
  {
   "cell_type": "code",
   "execution_count": 9,
   "id": "e4890c54",
   "metadata": {},
   "outputs": [
    {
     "name": "stdout",
     "output_type": "stream",
     "text": [
      "Enter 1st value: 5\n",
      "Enter 2nd value: 12\n",
      "z_addition:  17\n"
     ]
    }
   ],
   "source": [
    "# Q6:-> Program to add two inputs from user and print them\n",
    "x=int(input(\"Enter 1st value: \"))\n",
    "y=int(input(\"Enter 2nd value: \"))\n",
    "z_addition=x+y;\n",
    "print(\"z_addition: \",z_addition)"
   ]
  },
  {
   "cell_type": "code",
   "execution_count": 10,
   "id": "90c00268",
   "metadata": {},
   "outputs": [
    {
     "name": "stdout",
     "output_type": "stream",
     "text": [
      "Enter Islamiat marks 95\n",
      "Enter Maths marks    88\n",
      "Enter English marks  70\n",
      "Enter Urdu marks     60\n",
      "Enter Physics marks  50\n",
      "Grade B+\n"
     ]
    }
   ],
   "source": [
    "# Q7:-> Program to generate mark sheet using grades\n",
    "\n",
    "# Subject wise Marks\n",
    "Isl   = int(input(\"Enter Islamiat marks \"))\n",
    "Maths = int(input(\"Enter Maths marks    \"))\n",
    "Eng   = int(input(\"Enter English marks  \"))\n",
    "Urdu  = int(input(\"Enter Urdu marks     \"))\n",
    "Phy   = int(input(\"Enter Physics marks  \"))\n",
    "\n",
    "# Total Marks\n",
    "TM = 500;\n",
    "\n",
    "# Calculation of Percentage\n",
    "sum = Isl + Maths + Eng + Urdu + Phy;\n",
    "Percent = (sum/TM)*100;\n",
    "\n",
    "# Grading Mark Sheet using Conditional Statement\n",
    "if Percent < 100 and Percent > 90:\n",
    "    print(\"Grade A+\");\n",
    "elif Percent < 90 and Percent > 80:\n",
    "    print(\"Grade A\");\n",
    "elif Percent < 80 and Percent > 70:\n",
    "    print(\"Grade B+\");\n",
    "elif Percent < 70 and Percent > 60:\n",
    "    print(\"Grade B-\");\n",
    "elif Percent < 60 and Percent > 50:\n",
    "    print(\"Grade C\")  ;\n",
    "elif Percent < 50 and Percent > 40:\n",
    "    print(\"Grade D\");\n",
    "else:\n",
    "    print(\"Fail\");"
   ]
  },
  {
   "cell_type": "code",
   "execution_count": 12,
   "id": "65c93783",
   "metadata": {},
   "outputs": [
    {
     "name": "stdout",
     "output_type": "stream",
     "text": [
      "Enter a number: 55\n",
      "55 is an Odd number\n"
     ]
    }
   ],
   "source": [
    "# Q8:-> Program to identify that the given number is even or odd\n",
    "\n",
    "num = int(input(\"Enter a number: \"))\n",
    "n=num % 2\n",
    "if n == 0:\n",
    "   print(\"{} is an Even number\".format(num))\n",
    "else:\n",
    "   print(\"{} is an Odd number\".format(num))"
   ]
  },
  {
   "cell_type": "code",
   "execution_count": 13,
   "id": "68c4da71",
   "metadata": {},
   "outputs": [
    {
     "name": "stdout",
     "output_type": "stream",
     "text": [
      "5\n"
     ]
    }
   ],
   "source": [
    "# Q9:-> Program to print the length of the list\n",
    "\n",
    "list = ['Python','Machine Learning','Data Science','Neural Networking','Computer Vision']\n",
    "Length_of_list = len(list)\n",
    "print(Length_of_list)"
   ]
  },
  {
   "cell_type": "code",
   "execution_count": 14,
   "id": "bfd4566e",
   "metadata": {},
   "outputs": [
    {
     "ename": "TypeError",
     "evalue": "'int' object is not callable",
     "output_type": "error",
     "traceback": [
      "\u001b[1;31m---------------------------------------------------------------------------\u001b[0m",
      "\u001b[1;31mTypeError\u001b[0m                                 Traceback (most recent call last)",
      "\u001b[1;32m<ipython-input-14-7be023eb6cc4>\u001b[0m in \u001b[0;36m<module>\u001b[1;34m\u001b[0m\n\u001b[0;32m      2\u001b[0m \u001b[1;33m\u001b[0m\u001b[0m\n\u001b[0;32m      3\u001b[0m \u001b[0mnumbers\u001b[0m \u001b[1;33m=\u001b[0m \u001b[1;33m[\u001b[0m\u001b[1;36m1\u001b[0m\u001b[1;33m,\u001b[0m\u001b[1;36m2\u001b[0m\u001b[1;33m,\u001b[0m\u001b[1;36m3\u001b[0m\u001b[1;33m,\u001b[0m\u001b[1;36m4\u001b[0m\u001b[1;33m,\u001b[0m\u001b[1;36m5\u001b[0m\u001b[1;33m]\u001b[0m\u001b[1;33m\u001b[0m\u001b[1;33m\u001b[0m\u001b[0m\n\u001b[1;32m----> 4\u001b[1;33m \u001b[0mSum\u001b[0m \u001b[1;33m=\u001b[0m \u001b[0msum\u001b[0m\u001b[1;33m(\u001b[0m\u001b[0mnumbers\u001b[0m\u001b[1;33m)\u001b[0m\u001b[1;33m\u001b[0m\u001b[1;33m\u001b[0m\u001b[0m\n\u001b[0m\u001b[0;32m      5\u001b[0m \u001b[0mprint\u001b[0m\u001b[1;33m(\u001b[0m\u001b[0mSum\u001b[0m\u001b[1;33m)\u001b[0m\u001b[1;33m\u001b[0m\u001b[1;33m\u001b[0m\u001b[0m\n",
      "\u001b[1;31mTypeError\u001b[0m: 'int' object is not callable"
     ]
    }
   ],
   "source": [
    "# Q10:-> Program to sum all the numeric items in a list\n",
    "\n",
    "numbers = [1,2,3,4,5] \n",
    "Sum = sum(numbers) \n",
    "print(Sum) "
   ]
  },
  {
   "cell_type": "code",
   "execution_count": 17,
   "id": "326d28bc",
   "metadata": {},
   "outputs": [
    {
     "name": "stdout",
     "output_type": "stream",
     "text": [
      "10\n"
     ]
    }
   ],
   "source": [
    "# Q10:-> Program to sum all the numeric items in a list\n",
    "\n",
    "def list(numeric_items):\n",
    "    sum_items = 0\n",
    "    for x in numeric_items:\n",
    "        sum_items += x\n",
    "    return sum_items\n",
    "print(list([1,2,-8,3,4,-4,5,6,1]))"
   ]
  },
  {
   "cell_type": "code",
   "execution_count": 18,
   "id": "d24ce1c6",
   "metadata": {},
   "outputs": [
    {
     "name": "stdout",
     "output_type": "stream",
     "text": [
      "Largest element is: 100\n"
     ]
    }
   ],
   "source": [
    "# Q11:-> Program to get the largest number from a numeric list\n",
    "\n",
    "list = [1,2,-8,10,4,50,100,6,10]\n",
    "print(\"Largest element is:\", max(list))"
   ]
  },
  {
   "cell_type": "code",
   "execution_count": 19,
   "id": "c8ee86d5",
   "metadata": {},
   "outputs": [
    {
     "name": "stdout",
     "output_type": "stream",
     "text": [
      "[1, 1, 2, 3]\n"
     ]
    }
   ],
   "source": [
    "# Q12:-> Program to prints all the elements of the list that are less than 5\n",
    "\n",
    "list_a =[1, 1, 2, 3, 5, 8, 13, 21, 34, 55, 89]\n",
    "newlist = []\n",
    "for n in list_a:\n",
    "    if n < 5:\n",
    "        newlist.append(n)\n",
    "print(newlist)"
   ]
  },
  {
   "cell_type": "code",
   "execution_count": 20,
   "id": "7c0e64b6",
   "metadata": {},
   "outputs": [
    {
     "name": "stdout",
     "output_type": "stream",
     "text": [
      "[1, 2, -8, 4]\n"
     ]
    }
   ],
   "source": [
    "# Q12:-> Program to prints all the elements of the list that are less than 5\n",
    "\n",
    "list_a = [1,2,-8,10,4,50,100,6,10]\n",
    "newlist = []\n",
    "for n in list_a:\n",
    "    if n < 5:\n",
    "        newlist.append(n)\n",
    "print(newlist)"
   ]
  },
  {
   "cell_type": "code",
   "execution_count": null,
   "id": "b4e0ae78",
   "metadata": {},
   "outputs": [],
   "source": []
  }
 ],
 "metadata": {
  "kernelspec": {
   "display_name": "Python 3",
   "language": "python",
   "name": "python3"
  },
  "language_info": {
   "codemirror_mode": {
    "name": "ipython",
    "version": 3
   },
   "file_extension": ".py",
   "mimetype": "text/x-python",
   "name": "python",
   "nbconvert_exporter": "python",
   "pygments_lexer": "ipython3",
   "version": "3.8.8"
  }
 },
 "nbformat": 4,
 "nbformat_minor": 5
}
